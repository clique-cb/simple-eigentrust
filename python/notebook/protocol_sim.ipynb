{
 "cells": [
  {
   "cell_type": "code",
   "execution_count": 1,
   "metadata": {
    "ExecuteTime": {
     "end_time": "2023-11-30T14:00:38.965637Z",
     "start_time": "2023-11-30T14:00:37.804005Z"
    },
    "collapsed": false,
    "jupyter": {
     "outputs_hidden": false
    }
   },
   "outputs": [],
   "source": [
    "#!pip install matplotlib networkx numpy"
   ]
  },
  {
   "cell_type": "code",
   "execution_count": 15,
   "metadata": {
    "ExecuteTime": {
     "end_time": "2023-11-30T14:00:38.971568Z",
     "start_time": "2023-11-30T14:00:38.966487Z"
    }
   },
   "outputs": [],
   "source": [
    "import random\n",
    "import os\n",
    "\n",
    "os.chdir(\"../src\")\n",
    "os.getcwd()\n",
    "\n",
    "%load_ext autoreload\n",
    "%autoreload 2"
   ]
  },
  {
   "cell_type": "code",
   "execution_count": 16,
   "metadata": {
    "ExecuteTime": {
     "end_time": "2023-11-30T14:00:38.976023Z",
     "start_time": "2023-11-30T14:00:38.973126Z"
    },
    "collapsed": false,
    "jupyter": {
     "outputs_hidden": false
    }
   },
   "outputs": [],
   "source": [
    "import matplotlib.pyplot as plt\n",
    "import networkx as nx\n",
    "\n",
    "def plot_graph(protocol):\n",
    "    pos = nx.spring_layout(protocol._graph)  # positions for all nodes\n",
    "\n",
    "    # nodes\n",
    "    nx.draw_networkx_nodes(protocol._graph, pos, node_size=700)\n",
    "\n",
    "    # edges\n",
    "    nx.draw_networkx_edges(protocol._graph, pos, width=2)\n",
    "    nx.draw_networkx_labels(protocol._graph, pos, font_size=20, font_family=\"sans-serif\")\n",
    "\n",
    "    plt.axis(\"off\")\n",
    "    plt.show()"
   ]
  },
  {
   "cell_type": "code",
   "execution_count": 22,
   "metadata": {
    "ExecuteTime": {
     "end_time": "2023-11-30T14:00:48.460724Z",
     "start_time": "2023-11-30T14:00:48.459097Z"
    },
    "collapsed": false,
    "jupyter": {
     "outputs_hidden": false
    }
   },
   "outputs": [
    {
     "name": "stdout",
     "output_type": "stream",
     "text": [
      "\n",
      "Distribution type: equal\n",
      "\n",
      "Distribution type: one_rich\n",
      "\n",
      "Distribution type: pareto\n"
     ]
    }
   ],
   "source": [
    "from simulator import basic_simulation\n",
    "for distribution_type in [\"equal\", \"one_rich\", \"pareto\"]:\n",
    "    print(\"\")\n",
    "    print(f\"Distribution type: {distribution_type}\")\n",
    "    basic_simulation(\n",
    "        num_users=10,\n",
    "        initial_balance=10000,\n",
    "        num_days=30,\n",
    "        transactions_per_day=5,\n",
    "        distribution_type=distribution_type,\n",
    "    )"
   ]
  },
  {
   "cell_type": "code",
   "execution_count": 9,
   "metadata": {
    "ExecuteTime": {
     "end_time": "2023-11-30T14:00:39.011107Z",
     "start_time": "2023-11-30T14:00:39.008238Z"
    },
    "collapsed": false,
    "jupyter": {
     "outputs_hidden": false
    }
   },
   "outputs": [],
   "source": []
  }
 ],
 "metadata": {
  "kernelspec": {
   "display_name": "Python 3 (ipykernel)",
   "language": "python",
   "name": "python3"
  },
  "language_info": {
   "codemirror_mode": {
    "name": "ipython",
    "version": 3
   },
   "file_extension": ".py",
   "mimetype": "text/x-python",
   "name": "python",
   "nbconvert_exporter": "python",
   "pygments_lexer": "ipython3",
   "version": "3.11.5"
  }
 },
 "nbformat": 4,
 "nbformat_minor": 4
}
