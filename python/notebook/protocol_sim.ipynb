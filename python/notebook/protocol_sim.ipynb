{
 "cells": [
  {
   "cell_type": "code",
   "execution_count": 6,
   "outputs": [
    {
     "name": "stdout",
     "output_type": "stream",
     "text": [
      "Requirement already satisfied: matplotlib in /Users/pavelpantukhov/Projects/simple-eigentrust/python/venv/lib/python3.11/site-packages (3.8.2)\r\n",
      "Requirement already satisfied: networkx in /Users/pavelpantukhov/Projects/simple-eigentrust/python/venv/lib/python3.11/site-packages (3.2.1)\r\n",
      "Requirement already satisfied: numpy in /Users/pavelpantukhov/Projects/simple-eigentrust/python/venv/lib/python3.11/site-packages (1.26.2)\r\n",
      "Requirement already satisfied: contourpy>=1.0.1 in /Users/pavelpantukhov/Projects/simple-eigentrust/python/venv/lib/python3.11/site-packages (from matplotlib) (1.2.0)\r\n",
      "Requirement already satisfied: cycler>=0.10 in /Users/pavelpantukhov/Projects/simple-eigentrust/python/venv/lib/python3.11/site-packages (from matplotlib) (0.12.1)\r\n",
      "Requirement already satisfied: fonttools>=4.22.0 in /Users/pavelpantukhov/Projects/simple-eigentrust/python/venv/lib/python3.11/site-packages (from matplotlib) (4.45.1)\r\n",
      "Requirement already satisfied: kiwisolver>=1.3.1 in /Users/pavelpantukhov/Projects/simple-eigentrust/python/venv/lib/python3.11/site-packages (from matplotlib) (1.4.5)\r\n",
      "Requirement already satisfied: packaging>=20.0 in /Users/pavelpantukhov/Projects/simple-eigentrust/python/venv/lib/python3.11/site-packages (from matplotlib) (23.2)\r\n",
      "Requirement already satisfied: pillow>=8 in /Users/pavelpantukhov/Projects/simple-eigentrust/python/venv/lib/python3.11/site-packages (from matplotlib) (10.1.0)\r\n",
      "Requirement already satisfied: pyparsing>=2.3.1 in /Users/pavelpantukhov/Projects/simple-eigentrust/python/venv/lib/python3.11/site-packages (from matplotlib) (3.1.1)\r\n",
      "Requirement already satisfied: python-dateutil>=2.7 in /Users/pavelpantukhov/Projects/simple-eigentrust/python/venv/lib/python3.11/site-packages (from matplotlib) (2.8.2)\r\n",
      "Requirement already satisfied: six>=1.5 in /Users/pavelpantukhov/Projects/simple-eigentrust/python/venv/lib/python3.11/site-packages (from python-dateutil>=2.7->matplotlib) (1.16.0)\r\n"
     ]
    }
   ],
   "source": [
    "!pip install matplotlib networkx numpy"
   ],
   "metadata": {
    "collapsed": false,
    "ExecuteTime": {
     "end_time": "2023-11-30T14:00:38.965637Z",
     "start_time": "2023-11-30T14:00:37.804005Z"
    }
   }
  },
  {
   "cell_type": "code",
   "execution_count": 7,
   "metadata": {
    "ExecuteTime": {
     "end_time": "2023-11-30T14:00:38.971568Z",
     "start_time": "2023-11-30T14:00:38.966487Z"
    }
   },
   "outputs": [
    {
     "data": {
      "text/plain": "'/Users/pavelpantukhov/Projects/simple-eigentrust/python/src'"
     },
     "execution_count": 7,
     "metadata": {},
     "output_type": "execute_result"
    }
   ],
   "source": [
    "import random\n",
    "import os\n",
    "\n",
    "os.chdir(\"../src\")\n",
    "os.getcwd()"
   ]
  },
  {
   "cell_type": "code",
   "execution_count": 8,
   "outputs": [],
   "source": [
    "import matplotlib.pyplot as plt\n",
    "import networkx as nx\n",
    "\n",
    "def plot_graph(protocol):\n",
    "    pos = nx.spring_layout(protocol._graph)  # positions for all nodes\n",
    "\n",
    "    # nodes\n",
    "    nx.draw_networkx_nodes(protocol._graph, pos, node_size=700)\n",
    "\n",
    "    # edges\n",
    "    nx.draw_networkx_edges(protocol._graph, pos, width=2)\n",
    "    nx.draw_networkx_labels(protocol._graph, pos, font_size=20, font_family=\"sans-serif\")\n",
    "\n",
    "    plt.axis(\"off\")\n",
    "    plt.show()"
   ],
   "metadata": {
    "collapsed": false,
    "ExecuteTime": {
     "end_time": "2023-11-30T14:00:38.976023Z",
     "start_time": "2023-11-30T14:00:38.973126Z"
    }
   }
  },
  {
   "cell_type": "code",
   "execution_count": 10,
   "outputs": [
    {
     "name": "stdout",
     "output_type": "stream",
     "text": [
      "Transaction failed: Wow what happened?\n",
      "Transaction failed: Wow what happened?\n"
     ]
    }
   ],
   "source": [
    "from simulator import simulate\n",
    "for distribution_type in [\"equal\", \"one_rich\", \"pareto\"]:\n",
    "    simulate(\n",
    "        num_users=10,\n",
    "        initial_balance=1000,\n",
    "        num_days=30,\n",
    "        transactions_per_day=5,\n",
    "        distribution_type=distribution_type,\n",
    "    )"
   ],
   "metadata": {
    "collapsed": false,
    "ExecuteTime": {
     "end_time": "2023-11-30T14:00:48.460724Z",
     "start_time": "2023-11-30T14:00:48.459097Z"
    }
   }
  },
  {
   "cell_type": "code",
   "execution_count": 9,
   "outputs": [],
   "source": [],
   "metadata": {
    "collapsed": false,
    "ExecuteTime": {
     "end_time": "2023-11-30T14:00:39.011107Z",
     "start_time": "2023-11-30T14:00:39.008238Z"
    }
   }
  }
 ],
 "metadata": {
  "kernelspec": {
   "display_name": "Python 3",
   "language": "python",
   "name": "python3"
  },
  "language_info": {
   "name": "python",
   "version": "3.11.4"
  },
  "orig_nbformat": 4
 },
 "nbformat": 4,
 "nbformat_minor": 2
}
